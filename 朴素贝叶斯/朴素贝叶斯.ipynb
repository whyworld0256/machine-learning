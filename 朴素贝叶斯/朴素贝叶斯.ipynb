{
 "cells": [
  {
   "cell_type": "markdown",
   "id": "fb65c3bc",
   "metadata": {},
   "source": [
    "# 库函数导入"
   ]
  },
  {
   "cell_type": "code",
   "execution_count": 1,
   "id": "ae7aa6c0",
   "metadata": {},
   "outputs": [],
   "source": [
    "import warnings \n",
    "warnings.filterwarnings('ignore')\n",
    "import numpy as np\n",
    "from sklearn import datasets\n",
    "from sklearn.naive_bayes import GaussianNB\n",
    "from sklearn.model_selection import train_test_split"
   ]
  },
  {
   "cell_type": "markdown",
   "id": "74b1d94e",
   "metadata": {},
   "source": [
    "# 数据导入&分析"
   ]
  },
  {
   "cell_type": "code",
   "execution_count": 2,
   "id": "5053905d",
   "metadata": {},
   "outputs": [],
   "source": [
    "X,y=datasets.load_iris(return_X_y=True)\n",
    "X_train, X_test, y_train, y_test = train_test_split(X, y, test_size=0.2, random_state=0)"
   ]
  },
  {
   "cell_type": "markdown",
   "id": "3a0b8687",
   "metadata": {},
   "source": [
    "# 模型训练"
   ]
  },
  {
   "cell_type": "code",
   "execution_count": 3,
   "id": "f21b38b4",
   "metadata": {},
   "outputs": [
    {
     "data": {
      "text/plain": [
       "GaussianNB(var_smoothing=1e-08)"
      ]
     },
     "execution_count": 3,
     "metadata": {},
     "output_type": "execute_result"
    }
   ],
   "source": [
    "clf=GaussianNB(var_smoothing=1e-8)\n",
    "clf.fit(X_train,y_train)"
   ]
  },
  {
   "cell_type": "markdown",
   "id": "592560be",
   "metadata": {},
   "source": [
    "# 模型预测"
   ]
  },
  {
   "cell_type": "code",
   "execution_count": 4,
   "id": "a604dc76",
   "metadata": {},
   "outputs": [
    {
     "name": "stdout",
     "output_type": "stream",
     "text": [
      "Test acc: 0.967\n",
      "[2 1 0 2 0 2 0 1 1 1 1 1 1 1 1 0 1 1 0 0 2 1 0 0 2 0 0 1 1 0]\n",
      "预计的概率值 [[1.63542393e-232 2.18880483e-006 9.99997811e-001]\n",
      " [1.82692801e-082 9.99998304e-001 1.69619014e-006]\n",
      " [1.00000000e+000 7.10262098e-019 3.65456024e-028]\n",
      " [1.58680734e-305 1.04649339e-006 9.99998954e-001]\n",
      " [1.00000000e+000 8.59181403e-017 4.22166197e-027]\n",
      " [6.40803143e-321 1.56452195e-010 1.00000000e+000]\n",
      " [1.00000000e+000 1.09798677e-016 5.30284123e-027]\n",
      " [1.25190778e-146 7.74051994e-001 2.25948006e-001]\n",
      " [5.34645514e-150 9.07564841e-001 9.24351594e-002]\n",
      " [5.67460363e-093 9.99882109e-001 1.17891398e-004]\n",
      " [2.38828441e-210 5.29609348e-001 4.70390652e-001]\n",
      " [8.12453035e-132 9.43762533e-001 5.62374665e-002]\n",
      " [5.25421962e-132 9.98864359e-001 1.13564136e-003]\n",
      " [1.24562927e-139 9.49838596e-001 5.01614037e-002]\n",
      " [4.08442906e-140 9.88043845e-001 1.19561547e-002]\n",
      " [1.00000000e+000 7.12848075e-019 4.10169173e-029]\n",
      " [4.19763309e-131 9.87944967e-001 1.20550326e-002]\n",
      " [4.13452764e-111 9.99942383e-001 5.76169034e-005]\n",
      " [1.00000000e+000 2.24935885e-015 3.63629789e-026]\n",
      " [1.00000000e+000 9.86758854e-016 2.42357732e-025]\n",
      " [1.86072299e-186 1.66967407e-002 9.83303259e-001]\n",
      " [8.83500144e-130 9.92757224e-001 7.24277577e-003]\n",
      " [1.00000000e+000 4.26383655e-013 4.34226298e-023]\n",
      " [1.00000000e+000 1.28047667e-016 1.26710012e-027]\n",
      " [2.43900518e-168 1.83516456e-001 8.16483544e-001]\n",
      " [1.00000000e+000 2.62433761e-018 6.72579755e-029]\n",
      " [1.00000000e+000 3.20606109e-011 1.52434100e-020]\n",
      " [2.21053884e-110 9.99291227e-001 7.08772655e-004]\n",
      " [1.39322436e-046 9.99999972e-001 2.81393491e-008]\n",
      " [1.00000000e+000 1.85945430e-013 1.58835028e-023]]\n"
     ]
    }
   ],
   "source": [
    "# 评估\n",
    "y_pred = clf.predict(X_test)\n",
    "# acc=clf.score(X_test,y_test)\n",
    "acc=np.sum(y_test==y_pred)/X_test.shape[0] # X_test.shape[0]表示有多少个测试数据\n",
    "print('Test acc: %.3f' % acc )\n",
    "\n",
    "# 预测\n",
    "y_proba= clf.predict_proba(X_test) #作用于测试集\n",
    "print(clf.predict(X_test))\n",
    "print('预计的概率值',y_proba)"
   ]
  },
  {
   "cell_type": "markdown",
   "id": "33acfe03",
   "metadata": {},
   "source": [
    "# 模拟离散数据集--贝叶斯分类"
   ]
  },
  {
   "cell_type": "code",
   "execution_count": 5,
   "id": "d1dd8539",
   "metadata": {
    "scrolled": true
   },
   "outputs": [],
   "source": [
    "import random\n",
    "import numpy as np\n",
    "from sklearn.naive_bayes import CategoricalNB\n",
    "from sklearn.model_selection import train_test_split"
   ]
  },
  {
   "cell_type": "markdown",
   "id": "8e8a5460",
   "metadata": {},
   "source": [
    "# 数据导入&分析"
   ]
  },
  {
   "cell_type": "code",
   "execution_count": 6,
   "id": "2ca4170a",
   "metadata": {},
   "outputs": [],
   "source": [
    "# # 模拟数据\n",
    "rng=np.random.RandomState(1)# numpy.random.RandomState作用类似seed，都是一种如果预先定义好随机状态后，生成随机数的在下一次调用相同的numpy.random.RandomState的时候，得到与原来一模一样的随机。\n",
    "X=rng.randint(5,size=(600,100)) # 600个100维的数据\n",
    "y=np.array([1,2,3,4,5,6]*100)\n",
    "data=np.c_[X,y] #把特征和标签站在一起\n",
    "random.shuffle(data)\n",
    "X=data[:,:-1]\n",
    "y=data[:,-1]\n",
    "X_train, X_test, y_train, y_test = train_test_split(X, y, test_size=0.2, random_state=0)"
   ]
  },
  {
   "cell_type": "markdown",
   "id": "82c08356",
   "metadata": {},
   "source": [
    "# 模型训练&预测"
   ]
  },
  {
   "cell_type": "code",
   "execution_count": 7,
   "id": "0ca285e3",
   "metadata": {},
   "outputs": [
    {
     "name": "stdout",
     "output_type": "stream",
     "text": [
      "Test Acc : 0.600\n"
     ]
    }
   ],
   "source": [
    "clf = CategoricalNB(alpha=1)\n",
    "clf.fit(X_train, y_train)\n",
    "acc = clf.score(X_test, y_test)\n",
    "print(\"Test Acc : %.3f\" % acc)"
   ]
  },
  {
   "cell_type": "code",
   "execution_count": 8,
   "id": "b8729f3c",
   "metadata": {},
   "outputs": [
    {
     "name": "stdout",
     "output_type": "stream",
     "text": [
      "[[0.00246731 0.0864692  0.00132822 0.80762245 0.00119057 0.10092225]]\n",
      "[4]\n"
     ]
    }
   ],
   "source": [
    "x = rng.randint(5, size=(1, 100))\n",
    "print(clf.predict_proba(x))\n",
    "print(clf.predict(x))"
   ]
  }
 ],
 "metadata": {
  "kernelspec": {
   "display_name": "Python 3 (ipykernel)",
   "language": "python",
   "name": "python3"
  },
  "language_info": {
   "codemirror_mode": {
    "name": "ipython",
    "version": 3
   },
   "file_extension": ".py",
   "mimetype": "text/x-python",
   "name": "python",
   "nbconvert_exporter": "python",
   "pygments_lexer": "ipython3",
   "version": "3.9.13"
  }
 },
 "nbformat": 4,
 "nbformat_minor": 5
}
